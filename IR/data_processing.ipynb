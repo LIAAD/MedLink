{
 "cells": [
  {
   "cell_type": "markdown",
   "metadata": {},
   "source": [
    "### Load and Pre-process Data"
   ]
  },
  {
   "cell_type": "code",
   "execution_count": 1,
   "metadata": {},
   "outputs": [
    {
     "name": "stderr",
     "output_type": "stream",
     "text": [
      "c:\\Users\\Filip\\AppData\\Local\\Programs\\Python\\Python39\\lib\\site-packages\\pandas\\core\\computation\\expressions.py:21: UserWarning: Pandas requires version '2.8.4' or newer of 'numexpr' (version '2.8.1' currently installed).\n",
      "  from pandas.core.computation.check import NUMEXPR_INSTALLED\n"
     ]
    },
    {
     "data": {
      "text/plain": [
       "(864, 15)"
      ]
     },
     "execution_count": 1,
     "metadata": {},
     "output_type": "execute_result"
    }
   ],
   "source": [
    "import pandas as pd\n",
    "\n",
    "# Read the CSV file\n",
    "df = pd.read_csv('../data/dataset_articles.csv')\n",
    "\n",
    "# Display the dataframe\n",
    "df.shape"
   ]
  },
  {
   "cell_type": "code",
   "execution_count": null,
   "metadata": {},
   "outputs": [
    {
     "data": {
      "text/plain": [
       "(542, 16)"
      ]
     },
     "execution_count": 4,
     "metadata": {},
     "output_type": "execute_result"
    }
   ],
   "source": [
    "from unidecode import unidecode\n",
    "\n",
    "def preprocess_keywords(keywords):\n",
    "    if pd.isnull(keywords):\n",
    "        return []\n",
    "    black_list = [\"efeitos adversos\", \"diagnóstico por imagem\", \"complicações\", \"diagnóstico\", \"portugal\",\"cultura\"]\n",
    "    words = keywords.lower().replace(';', ',').replace('/', ',').split(',')\n",
    "    words = [word.strip() for word in words]\n",
    "    words = [word.strip(\".,\") for word in words]\n",
    "    words = [word for word in words if len(word) > 2 and word not in  black_list]\n",
    "    words = [unidecode(word) for word in words]\n",
    "    return words\n",
    "\n",
    "#uniformizar keywords\n",
    "df['processed_keywords'] = df['keywords'].apply(preprocess_keywords)\n",
    "filtered_df = df[df['processed_keywords'].apply(len) > 0]\n",
    "filtered_df = df[df['abstract'].str.len() > 40]\n",
    "#remove abstracts with \"Imagens em Medicina - Sem resumo\"\n",
    "filtered_df = filtered_df[filtered_df['abstract'] != \"Imagens em Medicina - Sem resumo\"]\n",
    "filtered_df = filtered_df[filtered_df['abstract'] != \"Não aplicável - Imagens em Medicina\"]\n",
    "\n",
    "filtered_df = filtered_df[filtered_df['abstract'] != \"Imagens em Medicina - Sem necessidade de resumo, de acordo com informações\"]\n",
    "#print datafram count\n",
    "filtered_df.shape\n"
   ]
  },
  {
   "cell_type": "code",
   "execution_count": null,
   "metadata": {},
   "outputs": [
    {
     "data": {
      "text/plain": [
       "542"
      ]
     },
     "execution_count": 18,
     "metadata": {},
     "output_type": "execute_result"
    }
   ],
   "source": [
    "abstracts = filtered_df['abstract'].tolist()\n",
    "len(abstracts)"
   ]
  },
  {
   "cell_type": "code",
   "execution_count": null,
   "metadata": {},
   "outputs": [],
   "source": [
    "#export df ti csv\n",
    "filtered_df.to_csv('data/filtered_case_reports.csv', index=False)\n"
   ]
  }
 ],
 "metadata": {
  "kernelspec": {
   "display_name": "Python 3",
   "language": "python",
   "name": "python3"
  },
  "language_info": {
   "codemirror_mode": {
    "name": "ipython",
    "version": 3
   },
   "file_extension": ".py",
   "mimetype": "text/x-python",
   "name": "python",
   "nbconvert_exporter": "python",
   "pygments_lexer": "ipython3",
   "version": "3.9.12"
  }
 },
 "nbformat": 4,
 "nbformat_minor": 2
}
